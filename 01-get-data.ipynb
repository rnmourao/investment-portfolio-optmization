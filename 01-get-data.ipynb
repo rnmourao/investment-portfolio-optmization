{
 "metadata": {
  "language_info": {
   "codemirror_mode": {
    "name": "ipython",
    "version": 3
   },
   "file_extension": ".py",
   "mimetype": "text/x-python",
   "name": "python",
   "nbconvert_exporter": "python",
   "pygments_lexer": "ipython3",
   "version": "3.8.2-final"
  },
  "orig_nbformat": 2,
  "kernelspec": {
   "name": "python_defaultSpec_1600301135994",
   "display_name": "Python 3.8.2 64-bit ('venv': virtualenv)"
  }
 },
 "nbformat": 4,
 "nbformat_minor": 2,
 "cells": [
  {
   "cell_type": "code",
   "execution_count": 1,
   "metadata": {
    "tags": []
   },
   "outputs": [
    {
     "output_type": "stream",
     "name": "stderr",
     "text": "Matplotlib is building the font cache; this may take a moment.\n"
    }
   ],
   "source": [
    "import pandas as pd\n",
    "from yahooquery import Ticker\n",
    "import re"
   ]
  },
  {
   "cell_type": "code",
   "execution_count": 2,
   "metadata": {},
   "outputs": [],
   "source": [
    "with open('data/tickers.txt', 'r') as f:\n",
    "    tickers = [l.replace('\\n', '') for l in f.readlines()]"
   ]
  },
  {
   "cell_type": "code",
   "execution_count": 3,
   "metadata": {},
   "outputs": [],
   "source": [
    "pattern = re.compile('[A-Z]{4}[3|4]$')"
   ]
  },
  {
   "cell_type": "code",
   "execution_count": 4,
   "metadata": {},
   "outputs": [
    {
     "output_type": "execute_result",
     "data": {
      "text/plain": "331"
     },
     "metadata": {},
     "execution_count": 4
    }
   ],
   "source": [
    "symbols = list(filter(pattern.match, tickers))\n",
    "len(symbols)"
   ]
  },
  {
   "cell_type": "code",
   "execution_count": 12,
   "metadata": {
    "tags": []
   },
   "outputs": [
    {
     "output_type": "stream",
     "name": "stdout",
     "text": "AALR3.SA\nABCB4.SA\nABEV3.SA\nADHM3.SA\nAFLT3.SA\nAGRO3.SA\nAHEB3.SA\nALPA3.SA\nALPA4.SA\nALSO3.SA\nALUP3.SA\nALUP4.SA\nAMAR3.SA\nANIM3.SA\nAPER3.SA\nARZZ3.SA\nATMP3.SA\nATOM3.SA\nAZEV3.SA\nAZEV4.SA\nAZUL4.SA\nBALM3.SA\nBALM4.SA\nBAUH4.SA\nBAZA3.SA\nBBAS3.SA\nBBDC3.SA\nBBDC4.SA\nBBRK3.SA\nBBSE3.SA\nBDLL4.SA\nBEEF3.SA\nBEES3.SA\nBEES4.SA\nBGIP3.SA\nBGIP4.SA\nBIDI3.SA\nBIDI4.SA\nBIOM3.SA\nBKBR3.SA\nBMEB4.SA\nBMGB4.SA\nBMKS3.SA\nBOBR4.SA\nBPAC3.SA\nBPAN4.SA\nBRAP3.SA\nBRAP4.SA\nBRDT3.SA\nBRFS3.SA\nBRGE3.SA\nBRIV3.SA\nBRIV4.SA\nBRKM3.SA\nBRML3.SA\nBRPR3.SA\nBRSR3.SA\nBSEV3.SA\nBTOW3.SA\nBTTL3.SA\nCAMB3.SA\nCAML3.SA\nCARD3.SA\nCCPR3.SA\nCCRO3.SA\nCEAB3.SA\nCEBR3.SA\nCEDO3.SA\nCEEB3.SA\nCESP3.SA\nCGRA3.SA\nCGRA4.SA\nCIEL3.SA\nCLSC4.SA\nCMIG3.SA\nCMIG4.SA\nCNTO3.SA\nCOCE3.SA\nCOGN3.SA\nCPFE3.SA\nCPLE3.SA\nCRFB3.SA\nCRIV3.SA\nCRIV4.SA\nCSAB3.SA\nCSAN3.SA\nCSMG3.SA\nCSNA3.SA\nCTKA4.SA\nCTNM3.SA\nCTNM4.SA\nCTSA3.SA\nCTSA4.SA\nCVCB3.SA\nCYRE3.SA\nDASA3.SA\nDIRR3.SA\nDMMO3.SA\nDOHL3.SA\nDOHL4.SA\nDTCY3.SA\nDTEX3.SA\nEALT3.SA\nEALT4.SA\nECOR3.SA\nEGIE3.SA\nEKTR3.SA\nEKTR4.SA\nELET3.SA\nEMAE4.SA\nEMBR3.SA\nENAT3.SA\nENBR3.SA\nENEV3.SA\nENGI3.SA\nENGI4.SA\nENMT3.SA\nENMT4.SA\nEQPA3.SA\nEQTL3.SA\nESTR4.SA\nETER3.SA\nEUCA3.SA\nEUCA4.SA\nEVEN3.SA\nEZTC3.SA\nFESA3.SA\nFESA4.SA\nFHER3.SA\nFLRY3.SA\nFRAS3.SA\nFRTA3.SA\nGEPA3.SA\nGEPA4.SA\nGFSA3.SA\nGGBR3.SA\nGGBR4.SA\nGNDI3.SA\nGOAU3.SA\nGOAU4.SA\nGOLL4.SA\nGPAR3.SA\nGPCP3.SA\nGRND3.SA\nGSHP3.SA\nGUAR3.SA\nHAGA3.SA\nHAGA4.SA\nHAPV3.SA\nHBOR3.SA\nHETA4.SA\nHGTX3.SA\nHOOT4.SA\nHYPE3.SA\nIDVL3.SA\nIDVL4.SA\nIGBR3.SA\nIGTA3.SA\nINEP3.SA\nINEP4.SA\nIRBR3.SA\nITSA3.SA\nITSA4.SA\nITUB3.SA\nITUB4.SA\nJBDU3.SA\nJBDU4.SA\nJBSS3.SA\nJHSF3.SA\nJOPA3.SA\nJPSA3.SA\nJSLG3.SA\nKEPL3.SA\nKLBN3.SA\nKLBN4.SA\nLAME3.SA\nLAME4.SA\nLCAM3.SA\nLEVE3.SA\nLIGT3.SA\nLINX3.SA\nLLIS3.SA\nLOGG3.SA\nLOGN3.SA\nLPSB3.SA\nLREN3.SA\nLUPA3.SA\nLUXM4.SA\nMDIA3.SA\nMEAL3.SA\nMERC4.SA\nMGEL4.SA\nMGLU3.SA\nMILS3.SA\nMMXM3.SA\nMNDL3.SA\nMNPR3.SA\nMOAR3.SA\nMOVI3.SA\nMRFG3.SA\nMRVE3.SA\nMTSA4.SA\nMULT3.SA\nMWET4.SA\nMYPK3.SA\nNEOE3.SA\nNORD3.SA\nNTCO3.SA\nODPV3.SA\nOFSA3.SA\nOIBR3.SA\nOIBR4.SA\nOMGE3.SA\nOSXB3.SA\nPARD3.SA\nPATI4.SA\nPCAR3.SA\nPDGR3.SA\nPETR3.SA\nPETR4.SA\nPFRM3.SA\nPINE4.SA\nPLAS3.SA\nPMAM3.SA\nPNVL3.SA\nPNVL4.SA\nPOMO3.SA\nPOMO4.SA\nPOSI3.SA\nPRIO3.SA\nPSSA3.SA\nPTBL3.SA\nPTNT3.SA\nPTNT4.SA\nQUAL3.SA\nRADL3.SA\nRAIL3.SA\nRANI3.SA\nRANI4.SA\nRAPT3.SA\nRAPT4.SA\nRCSL3.SA\nRCSL4.SA\nRDNI3.SA\nREDE3.SA\nRENT3.SA\nRLOG3.SA\nRNEW3.SA\nRNEW4.SA\nROMI3.SA\nRPAD3.SA\nRPMG3.SA\nRSID3.SA\nSANB3.SA\nSANB4.SA\nSAPR3.SA\nSAPR4.SA\nSBSP3.SA\nSCAR3.SA\nSEER3.SA\nSGPS3.SA\nSHOW3.SA\nSHUL4.SA\nSLCE3.SA\nSLED3.SA\nSLED4.SA\nSMLS3.SA\nSMTO3.SA\nSQIA3.SA\nSTBP3.SA\nSULA3.SA\nSULA4.SA\nSUZB3.SA\nTAEE3.SA\nTAEE4.SA\nTASA3.SA\nTASA4.SA\nTCNO3.SA\nTCNO4.SA\nTCSA3.SA\nTECN3.SA\nTEKA4.SA\nTELB3.SA\nTELB4.SA\nTEND3.SA\nTESA3.SA\nTGMA3.SA\nTIET3.SA\nTIET4.SA\nTIMP3.SA\nTKNO4.SA\nTOTS3.SA\nTPIS3.SA\nTRIS3.SA\nTRPL3.SA\nTRPL4.SA\nTUPY3.SA\nTXRX3.SA\nTXRX4.SA\nUCAS3.SA\nUGPA3.SA\nUNIP3.SA\nUSIM3.SA\nVALE3.SA\nVIVA3.SA\nVIVR3.SA\nVIVT3.SA\nVIVT4.SA\nVLID3.SA\nVULC3.SA\nVVAR3.SA\nWEGE3.SA\nWHRL3.SA\nWHRL4.SA\nWIZS3.SA\nWLMM3.SA\nWLMM4.SA\nYDUQ3.SA\n"
    }
   ],
   "source": [
    "df = pd.DataFrame()\n",
    "for symbol in symbols:\n",
    "    s = symbol + '.SA'\n",
    "    t = Ticker(s)\n",
    "    temp = t.history(start=\"2019-01-02\", end=\"2019-12-31\")\n",
    "    \n",
    "    if isinstance(temp, pd.DataFrame):\n",
    "        df = pd.concat([df, temp])"
   ]
  },
  {
   "cell_type": "code",
   "execution_count": 14,
   "metadata": {},
   "outputs": [
    {
     "output_type": "execute_result",
     "data": {
      "text/plain": "                     close   open    volume   high    low   adjclose  \\\nsymbol   date                                                          \nAALR3.SA 2019-01-02  13.25  13.31  264200.0  13.50  13.25  13.116952   \n         2019-01-03  13.30  13.21  125700.0  13.65  13.21  13.166451   \n         2019-01-04  13.44  13.49  144700.0  13.59  13.33  13.305044   \n         2019-01-07  13.34  13.43  117000.0  13.58  13.32  13.206048   \n         2019-01-08  13.19  13.30  123300.0  13.30  13.06  13.057554   \n\n                     dividends  splits  \nsymbol   date                           \nAALR3.SA 2019-01-02        0.0     NaN  \n         2019-01-03        0.0     NaN  \n         2019-01-04        0.0     NaN  \n         2019-01-07        0.0     NaN  \n         2019-01-08        0.0     NaN  ",
      "text/html": "<div>\n<style scoped>\n    .dataframe tbody tr th:only-of-type {\n        vertical-align: middle;\n    }\n\n    .dataframe tbody tr th {\n        vertical-align: top;\n    }\n\n    .dataframe thead th {\n        text-align: right;\n    }\n</style>\n<table border=\"1\" class=\"dataframe\">\n  <thead>\n    <tr style=\"text-align: right;\">\n      <th></th>\n      <th></th>\n      <th>close</th>\n      <th>open</th>\n      <th>volume</th>\n      <th>high</th>\n      <th>low</th>\n      <th>adjclose</th>\n      <th>dividends</th>\n      <th>splits</th>\n    </tr>\n    <tr>\n      <th>symbol</th>\n      <th>date</th>\n      <th></th>\n      <th></th>\n      <th></th>\n      <th></th>\n      <th></th>\n      <th></th>\n      <th></th>\n      <th></th>\n    </tr>\n  </thead>\n  <tbody>\n    <tr>\n      <th rowspan=\"5\" valign=\"top\">AALR3.SA</th>\n      <th>2019-01-02</th>\n      <td>13.25</td>\n      <td>13.31</td>\n      <td>264200.0</td>\n      <td>13.50</td>\n      <td>13.25</td>\n      <td>13.116952</td>\n      <td>0.0</td>\n      <td>NaN</td>\n    </tr>\n    <tr>\n      <th>2019-01-03</th>\n      <td>13.30</td>\n      <td>13.21</td>\n      <td>125700.0</td>\n      <td>13.65</td>\n      <td>13.21</td>\n      <td>13.166451</td>\n      <td>0.0</td>\n      <td>NaN</td>\n    </tr>\n    <tr>\n      <th>2019-01-04</th>\n      <td>13.44</td>\n      <td>13.49</td>\n      <td>144700.0</td>\n      <td>13.59</td>\n      <td>13.33</td>\n      <td>13.305044</td>\n      <td>0.0</td>\n      <td>NaN</td>\n    </tr>\n    <tr>\n      <th>2019-01-07</th>\n      <td>13.34</td>\n      <td>13.43</td>\n      <td>117000.0</td>\n      <td>13.58</td>\n      <td>13.32</td>\n      <td>13.206048</td>\n      <td>0.0</td>\n      <td>NaN</td>\n    </tr>\n    <tr>\n      <th>2019-01-08</th>\n      <td>13.19</td>\n      <td>13.30</td>\n      <td>123300.0</td>\n      <td>13.30</td>\n      <td>13.06</td>\n      <td>13.057554</td>\n      <td>0.0</td>\n      <td>NaN</td>\n    </tr>\n  </tbody>\n</table>\n</div>"
     },
     "metadata": {},
     "execution_count": 14
    }
   ],
   "source": [
    "df.head()"
   ]
  },
  {
   "cell_type": "code",
   "execution_count": 18,
   "metadata": {},
   "outputs": [
    {
     "output_type": "execute_result",
     "data": {
      "text/plain": "symbol      AALR3.SA   ABCB4.SA   ABEV3.SA  ADHM3.SA  AFLT3.SA   AGRO3.SA  \\\ndate                                                                        \n2019-01-02     13.25  17.120001  16.150000   1.24398      5.40  15.950000   \n2019-01-03     13.30  17.100000  16.330000   1.17763      4.96  16.250000   \n2019-01-04     13.44  16.950001  16.549999   1.17763      4.95  16.299999   \n2019-01-07     13.34  17.000000  16.480000   1.16105      4.95  16.299999   \n2019-01-08     13.19  17.320000  16.150000   1.15276      5.00  16.260000   \n\nsymbol       AHEB3.SA  ALPA3.SA  ALPA4.SA   ALSO3.SA  ...   VLID3.SA  \\\ndate                                                  ...              \n2019-01-02  74.629501    13.440    14.000  26.200001  ...  18.510000   \n2019-01-03  39.802399    13.592    14.024  26.719999  ...  17.740000   \n2019-01-04  39.802399    13.840    13.920  26.150000  ...  17.360001   \n2019-01-07  39.802399    12.824    13.888  26.629999  ...  17.170000   \n2019-01-08  39.802399    12.904    14.160  26.450001  ...  18.020000   \n\nsymbol      VULC3.SA  VVAR3.SA   WEGE3.SA  WHRL3.SA  WHRL4.SA  WIZS3.SA  \\\ndate                                                                      \n2019-01-02      7.32      4.38  17.980000      4.21      5.10      7.20   \n2019-01-03      7.40      4.31  18.389999      4.21      4.97      7.25   \n2019-01-04      7.27      4.27  18.600000      4.34      4.89      7.15   \n2019-01-07      7.26      4.24  18.309999      4.49      4.83      7.09   \n2019-01-08      7.37      4.04  18.160000      4.50      4.80      7.15   \n\nsymbol      WLMM3.SA  WLMM4.SA   YDUQ3.SA  \ndate                                       \n2019-01-02       5.0      5.08  24.850000  \n2019-01-03       5.0      5.07  24.830000  \n2019-01-04       5.0      5.35  25.209999  \n2019-01-07       5.0      5.03  24.709999  \n2019-01-08       5.0      5.35  24.940001  \n\n[5 rows x 318 columns]",
      "text/html": "<div>\n<style scoped>\n    .dataframe tbody tr th:only-of-type {\n        vertical-align: middle;\n    }\n\n    .dataframe tbody tr th {\n        vertical-align: top;\n    }\n\n    .dataframe thead th {\n        text-align: right;\n    }\n</style>\n<table border=\"1\" class=\"dataframe\">\n  <thead>\n    <tr style=\"text-align: right;\">\n      <th>symbol</th>\n      <th>AALR3.SA</th>\n      <th>ABCB4.SA</th>\n      <th>ABEV3.SA</th>\n      <th>ADHM3.SA</th>\n      <th>AFLT3.SA</th>\n      <th>AGRO3.SA</th>\n      <th>AHEB3.SA</th>\n      <th>ALPA3.SA</th>\n      <th>ALPA4.SA</th>\n      <th>ALSO3.SA</th>\n      <th>...</th>\n      <th>VLID3.SA</th>\n      <th>VULC3.SA</th>\n      <th>VVAR3.SA</th>\n      <th>WEGE3.SA</th>\n      <th>WHRL3.SA</th>\n      <th>WHRL4.SA</th>\n      <th>WIZS3.SA</th>\n      <th>WLMM3.SA</th>\n      <th>WLMM4.SA</th>\n      <th>YDUQ3.SA</th>\n    </tr>\n    <tr>\n      <th>date</th>\n      <th></th>\n      <th></th>\n      <th></th>\n      <th></th>\n      <th></th>\n      <th></th>\n      <th></th>\n      <th></th>\n      <th></th>\n      <th></th>\n      <th></th>\n      <th></th>\n      <th></th>\n      <th></th>\n      <th></th>\n      <th></th>\n      <th></th>\n      <th></th>\n      <th></th>\n      <th></th>\n      <th></th>\n    </tr>\n  </thead>\n  <tbody>\n    <tr>\n      <th>2019-01-02</th>\n      <td>13.25</td>\n      <td>17.120001</td>\n      <td>16.150000</td>\n      <td>1.24398</td>\n      <td>5.40</td>\n      <td>15.950000</td>\n      <td>74.629501</td>\n      <td>13.440</td>\n      <td>14.000</td>\n      <td>26.200001</td>\n      <td>...</td>\n      <td>18.510000</td>\n      <td>7.32</td>\n      <td>4.38</td>\n      <td>17.980000</td>\n      <td>4.21</td>\n      <td>5.10</td>\n      <td>7.20</td>\n      <td>5.0</td>\n      <td>5.08</td>\n      <td>24.850000</td>\n    </tr>\n    <tr>\n      <th>2019-01-03</th>\n      <td>13.30</td>\n      <td>17.100000</td>\n      <td>16.330000</td>\n      <td>1.17763</td>\n      <td>4.96</td>\n      <td>16.250000</td>\n      <td>39.802399</td>\n      <td>13.592</td>\n      <td>14.024</td>\n      <td>26.719999</td>\n      <td>...</td>\n      <td>17.740000</td>\n      <td>7.40</td>\n      <td>4.31</td>\n      <td>18.389999</td>\n      <td>4.21</td>\n      <td>4.97</td>\n      <td>7.25</td>\n      <td>5.0</td>\n      <td>5.07</td>\n      <td>24.830000</td>\n    </tr>\n    <tr>\n      <th>2019-01-04</th>\n      <td>13.44</td>\n      <td>16.950001</td>\n      <td>16.549999</td>\n      <td>1.17763</td>\n      <td>4.95</td>\n      <td>16.299999</td>\n      <td>39.802399</td>\n      <td>13.840</td>\n      <td>13.920</td>\n      <td>26.150000</td>\n      <td>...</td>\n      <td>17.360001</td>\n      <td>7.27</td>\n      <td>4.27</td>\n      <td>18.600000</td>\n      <td>4.34</td>\n      <td>4.89</td>\n      <td>7.15</td>\n      <td>5.0</td>\n      <td>5.35</td>\n      <td>25.209999</td>\n    </tr>\n    <tr>\n      <th>2019-01-07</th>\n      <td>13.34</td>\n      <td>17.000000</td>\n      <td>16.480000</td>\n      <td>1.16105</td>\n      <td>4.95</td>\n      <td>16.299999</td>\n      <td>39.802399</td>\n      <td>12.824</td>\n      <td>13.888</td>\n      <td>26.629999</td>\n      <td>...</td>\n      <td>17.170000</td>\n      <td>7.26</td>\n      <td>4.24</td>\n      <td>18.309999</td>\n      <td>4.49</td>\n      <td>4.83</td>\n      <td>7.09</td>\n      <td>5.0</td>\n      <td>5.03</td>\n      <td>24.709999</td>\n    </tr>\n    <tr>\n      <th>2019-01-08</th>\n      <td>13.19</td>\n      <td>17.320000</td>\n      <td>16.150000</td>\n      <td>1.15276</td>\n      <td>5.00</td>\n      <td>16.260000</td>\n      <td>39.802399</td>\n      <td>12.904</td>\n      <td>14.160</td>\n      <td>26.450001</td>\n      <td>...</td>\n      <td>18.020000</td>\n      <td>7.37</td>\n      <td>4.04</td>\n      <td>18.160000</td>\n      <td>4.50</td>\n      <td>4.80</td>\n      <td>7.15</td>\n      <td>5.0</td>\n      <td>5.35</td>\n      <td>24.940001</td>\n    </tr>\n  </tbody>\n</table>\n<p>5 rows × 318 columns</p>\n</div>"
     },
     "metadata": {},
     "execution_count": 18
    }
   ],
   "source": [
    "ts = df.reset_index()[['date', 'symbol', 'close']].pivot_table(values='close', columns='symbol', index='date')\n",
    "ts.head()"
   ]
  },
  {
   "cell_type": "code",
   "execution_count": null,
   "metadata": {},
   "outputs": [],
   "source": [
    "ts.to_pickle('data/history.pkl')"
   ]
  }
 ]
}